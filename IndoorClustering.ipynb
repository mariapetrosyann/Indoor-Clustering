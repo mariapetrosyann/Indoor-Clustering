{
  "nbformat": 4,
  "nbformat_minor": 0,
  "metadata": {
    "colab": {
      "provenance": []
    },
    "kernelspec": {
      "name": "python3",
      "display_name": "Python 3"
    },
    "language_info": {
      "name": "python"
    }
  },
  "cells": [
    {
      "cell_type": "markdown",
      "source": [
        "### ***Lab 15. Mini Project 2: Machine Learning Model Development***\n",
        "\n",
        "#Indoor Clustering\n"
      ],
      "metadata": {
        "id": "bquWRMHiQdkQ"
      }
    },
    {
      "cell_type": "markdown",
      "source": [
        "# Data Preprocessing"
      ],
      "metadata": {
        "id": "Seg4NIrDMyUd"
      }
    },
    {
      "cell_type": "code",
      "source": [
        "import numpy as np\n",
        "import pandas as pd\n",
        "fn = \"https://archive.ics.uci.edu/ml/machine-learning-databases/00422/wifi_localization.txt\"\n",
        "colnames = [0, 1, 2, 3, 4, 5, 6, 'Target']\n",
        "df = pd.read_csv(fn, header = None, names=colnames, comment = \"#\", sep = '\\t')\n",
        "rooms = {1:'Kitchen', 2: 'Hallway', 3:'Livingroom', 4:'Patio'}\n",
        "df['Target'] = df['Target'].map(rooms)\n",
        "df"
      ],
      "metadata": {
        "colab": {
          "base_uri": "https://localhost:8080/",
          "height": 472
        },
        "id": "Z1M5dNNnW4kr",
        "outputId": "3881a2f8-6765-46f2-8bfa-f905dbaacdc1"
      },
      "execution_count": null,
      "outputs": [
        {
          "output_type": "execute_result",
          "data": {
            "text/plain": [
              "       0   1   2   3   4   5   6   Target\n",
              "0    -64 -56 -61 -66 -71 -82 -81  Kitchen\n",
              "1    -68 -57 -61 -65 -71 -85 -85  Kitchen\n",
              "2    -63 -60 -60 -67 -76 -85 -84  Kitchen\n",
              "3    -61 -60 -68 -62 -77 -90 -80  Kitchen\n",
              "4    -63 -65 -60 -63 -77 -81 -87  Kitchen\n",
              "...   ..  ..  ..  ..  ..  ..  ..      ...\n",
              "1995 -59 -59 -48 -66 -50 -86 -94    Patio\n",
              "1996 -59 -56 -50 -62 -47 -87 -90    Patio\n",
              "1997 -62 -59 -46 -65 -45 -87 -88    Patio\n",
              "1998 -62 -58 -52 -61 -41 -90 -85    Patio\n",
              "1999 -59 -50 -45 -60 -45 -88 -87    Patio\n",
              "\n",
              "[2000 rows x 8 columns]"
            ],
            "text/html": [
              "\n",
              "  <div id=\"df-f24fd3e6-ff59-4ea4-8e2e-24c253ffc708\" class=\"colab-df-container\">\n",
              "    <div>\n",
              "<style scoped>\n",
              "    .dataframe tbody tr th:only-of-type {\n",
              "        vertical-align: middle;\n",
              "    }\n",
              "\n",
              "    .dataframe tbody tr th {\n",
              "        vertical-align: top;\n",
              "    }\n",
              "\n",
              "    .dataframe thead th {\n",
              "        text-align: right;\n",
              "    }\n",
              "</style>\n",
              "<table border=\"1\" class=\"dataframe\">\n",
              "  <thead>\n",
              "    <tr style=\"text-align: right;\">\n",
              "      <th></th>\n",
              "      <th>0</th>\n",
              "      <th>1</th>\n",
              "      <th>2</th>\n",
              "      <th>3</th>\n",
              "      <th>4</th>\n",
              "      <th>5</th>\n",
              "      <th>6</th>\n",
              "      <th>Target</th>\n",
              "    </tr>\n",
              "  </thead>\n",
              "  <tbody>\n",
              "    <tr>\n",
              "      <th>0</th>\n",
              "      <td>-64</td>\n",
              "      <td>-56</td>\n",
              "      <td>-61</td>\n",
              "      <td>-66</td>\n",
              "      <td>-71</td>\n",
              "      <td>-82</td>\n",
              "      <td>-81</td>\n",
              "      <td>Kitchen</td>\n",
              "    </tr>\n",
              "    <tr>\n",
              "      <th>1</th>\n",
              "      <td>-68</td>\n",
              "      <td>-57</td>\n",
              "      <td>-61</td>\n",
              "      <td>-65</td>\n",
              "      <td>-71</td>\n",
              "      <td>-85</td>\n",
              "      <td>-85</td>\n",
              "      <td>Kitchen</td>\n",
              "    </tr>\n",
              "    <tr>\n",
              "      <th>2</th>\n",
              "      <td>-63</td>\n",
              "      <td>-60</td>\n",
              "      <td>-60</td>\n",
              "      <td>-67</td>\n",
              "      <td>-76</td>\n",
              "      <td>-85</td>\n",
              "      <td>-84</td>\n",
              "      <td>Kitchen</td>\n",
              "    </tr>\n",
              "    <tr>\n",
              "      <th>3</th>\n",
              "      <td>-61</td>\n",
              "      <td>-60</td>\n",
              "      <td>-68</td>\n",
              "      <td>-62</td>\n",
              "      <td>-77</td>\n",
              "      <td>-90</td>\n",
              "      <td>-80</td>\n",
              "      <td>Kitchen</td>\n",
              "    </tr>\n",
              "    <tr>\n",
              "      <th>4</th>\n",
              "      <td>-63</td>\n",
              "      <td>-65</td>\n",
              "      <td>-60</td>\n",
              "      <td>-63</td>\n",
              "      <td>-77</td>\n",
              "      <td>-81</td>\n",
              "      <td>-87</td>\n",
              "      <td>Kitchen</td>\n",
              "    </tr>\n",
              "    <tr>\n",
              "      <th>...</th>\n",
              "      <td>...</td>\n",
              "      <td>...</td>\n",
              "      <td>...</td>\n",
              "      <td>...</td>\n",
              "      <td>...</td>\n",
              "      <td>...</td>\n",
              "      <td>...</td>\n",
              "      <td>...</td>\n",
              "    </tr>\n",
              "    <tr>\n",
              "      <th>1995</th>\n",
              "      <td>-59</td>\n",
              "      <td>-59</td>\n",
              "      <td>-48</td>\n",
              "      <td>-66</td>\n",
              "      <td>-50</td>\n",
              "      <td>-86</td>\n",
              "      <td>-94</td>\n",
              "      <td>Patio</td>\n",
              "    </tr>\n",
              "    <tr>\n",
              "      <th>1996</th>\n",
              "      <td>-59</td>\n",
              "      <td>-56</td>\n",
              "      <td>-50</td>\n",
              "      <td>-62</td>\n",
              "      <td>-47</td>\n",
              "      <td>-87</td>\n",
              "      <td>-90</td>\n",
              "      <td>Patio</td>\n",
              "    </tr>\n",
              "    <tr>\n",
              "      <th>1997</th>\n",
              "      <td>-62</td>\n",
              "      <td>-59</td>\n",
              "      <td>-46</td>\n",
              "      <td>-65</td>\n",
              "      <td>-45</td>\n",
              "      <td>-87</td>\n",
              "      <td>-88</td>\n",
              "      <td>Patio</td>\n",
              "    </tr>\n",
              "    <tr>\n",
              "      <th>1998</th>\n",
              "      <td>-62</td>\n",
              "      <td>-58</td>\n",
              "      <td>-52</td>\n",
              "      <td>-61</td>\n",
              "      <td>-41</td>\n",
              "      <td>-90</td>\n",
              "      <td>-85</td>\n",
              "      <td>Patio</td>\n",
              "    </tr>\n",
              "    <tr>\n",
              "      <th>1999</th>\n",
              "      <td>-59</td>\n",
              "      <td>-50</td>\n",
              "      <td>-45</td>\n",
              "      <td>-60</td>\n",
              "      <td>-45</td>\n",
              "      <td>-88</td>\n",
              "      <td>-87</td>\n",
              "      <td>Patio</td>\n",
              "    </tr>\n",
              "  </tbody>\n",
              "</table>\n",
              "<p>2000 rows × 8 columns</p>\n",
              "</div>\n",
              "    <div class=\"colab-df-buttons\">\n",
              "\n",
              "  <div class=\"colab-df-container\">\n",
              "    <button class=\"colab-df-convert\" onclick=\"convertToInteractive('df-f24fd3e6-ff59-4ea4-8e2e-24c253ffc708')\"\n",
              "            title=\"Convert this dataframe to an interactive table.\"\n",
              "            style=\"display:none;\">\n",
              "\n",
              "  <svg xmlns=\"http://www.w3.org/2000/svg\" height=\"24px\" viewBox=\"0 -960 960 960\">\n",
              "    <path d=\"M120-120v-720h720v720H120Zm60-500h600v-160H180v160Zm220 220h160v-160H400v160Zm0 220h160v-160H400v160ZM180-400h160v-160H180v160Zm440 0h160v-160H620v160ZM180-180h160v-160H180v160Zm440 0h160v-160H620v160Z\"/>\n",
              "  </svg>\n",
              "    </button>\n",
              "\n",
              "  <style>\n",
              "    .colab-df-container {\n",
              "      display:flex;\n",
              "      gap: 12px;\n",
              "    }\n",
              "\n",
              "    .colab-df-convert {\n",
              "      background-color: #E8F0FE;\n",
              "      border: none;\n",
              "      border-radius: 50%;\n",
              "      cursor: pointer;\n",
              "      display: none;\n",
              "      fill: #1967D2;\n",
              "      height: 32px;\n",
              "      padding: 0 0 0 0;\n",
              "      width: 32px;\n",
              "    }\n",
              "\n",
              "    .colab-df-convert:hover {\n",
              "      background-color: #E2EBFA;\n",
              "      box-shadow: 0px 1px 2px rgba(60, 64, 67, 0.3), 0px 1px 3px 1px rgba(60, 64, 67, 0.15);\n",
              "      fill: #174EA6;\n",
              "    }\n",
              "\n",
              "    .colab-df-buttons div {\n",
              "      margin-bottom: 4px;\n",
              "    }\n",
              "\n",
              "    [theme=dark] .colab-df-convert {\n",
              "      background-color: #3B4455;\n",
              "      fill: #D2E3FC;\n",
              "    }\n",
              "\n",
              "    [theme=dark] .colab-df-convert:hover {\n",
              "      background-color: #434B5C;\n",
              "      box-shadow: 0px 1px 3px 1px rgba(0, 0, 0, 0.15);\n",
              "      filter: drop-shadow(0px 1px 2px rgba(0, 0, 0, 0.3));\n",
              "      fill: #FFFFFF;\n",
              "    }\n",
              "  </style>\n",
              "\n",
              "    <script>\n",
              "      const buttonEl =\n",
              "        document.querySelector('#df-f24fd3e6-ff59-4ea4-8e2e-24c253ffc708 button.colab-df-convert');\n",
              "      buttonEl.style.display =\n",
              "        google.colab.kernel.accessAllowed ? 'block' : 'none';\n",
              "\n",
              "      async function convertToInteractive(key) {\n",
              "        const element = document.querySelector('#df-f24fd3e6-ff59-4ea4-8e2e-24c253ffc708');\n",
              "        const dataTable =\n",
              "          await google.colab.kernel.invokeFunction('convertToInteractive',\n",
              "                                                    [key], {});\n",
              "        if (!dataTable) return;\n",
              "\n",
              "        const docLinkHtml = 'Like what you see? Visit the ' +\n",
              "          '<a target=\"_blank\" href=https://colab.research.google.com/notebooks/data_table.ipynb>data table notebook</a>'\n",
              "          + ' to learn more about interactive tables.';\n",
              "        element.innerHTML = '';\n",
              "        dataTable['output_type'] = 'display_data';\n",
              "        await google.colab.output.renderOutput(dataTable, element);\n",
              "        const docLink = document.createElement('div');\n",
              "        docLink.innerHTML = docLinkHtml;\n",
              "        element.appendChild(docLink);\n",
              "      }\n",
              "    </script>\n",
              "  </div>\n",
              "\n",
              "\n",
              "<div id=\"df-8e8781dd-1b00-4f91-8837-32b9614cbeec\">\n",
              "  <button class=\"colab-df-quickchart\" onclick=\"quickchart('df-8e8781dd-1b00-4f91-8837-32b9614cbeec')\"\n",
              "            title=\"Suggest charts\"\n",
              "            style=\"display:none;\">\n",
              "\n",
              "<svg xmlns=\"http://www.w3.org/2000/svg\" height=\"24px\"viewBox=\"0 0 24 24\"\n",
              "     width=\"24px\">\n",
              "    <g>\n",
              "        <path d=\"M19 3H5c-1.1 0-2 .9-2 2v14c0 1.1.9 2 2 2h14c1.1 0 2-.9 2-2V5c0-1.1-.9-2-2-2zM9 17H7v-7h2v7zm4 0h-2V7h2v10zm4 0h-2v-4h2v4z\"/>\n",
              "    </g>\n",
              "</svg>\n",
              "  </button>\n",
              "\n",
              "<style>\n",
              "  .colab-df-quickchart {\n",
              "      --bg-color: #E8F0FE;\n",
              "      --fill-color: #1967D2;\n",
              "      --hover-bg-color: #E2EBFA;\n",
              "      --hover-fill-color: #174EA6;\n",
              "      --disabled-fill-color: #AAA;\n",
              "      --disabled-bg-color: #DDD;\n",
              "  }\n",
              "\n",
              "  [theme=dark] .colab-df-quickchart {\n",
              "      --bg-color: #3B4455;\n",
              "      --fill-color: #D2E3FC;\n",
              "      --hover-bg-color: #434B5C;\n",
              "      --hover-fill-color: #FFFFFF;\n",
              "      --disabled-bg-color: #3B4455;\n",
              "      --disabled-fill-color: #666;\n",
              "  }\n",
              "\n",
              "  .colab-df-quickchart {\n",
              "    background-color: var(--bg-color);\n",
              "    border: none;\n",
              "    border-radius: 50%;\n",
              "    cursor: pointer;\n",
              "    display: none;\n",
              "    fill: var(--fill-color);\n",
              "    height: 32px;\n",
              "    padding: 0;\n",
              "    width: 32px;\n",
              "  }\n",
              "\n",
              "  .colab-df-quickchart:hover {\n",
              "    background-color: var(--hover-bg-color);\n",
              "    box-shadow: 0 1px 2px rgba(60, 64, 67, 0.3), 0 1px 3px 1px rgba(60, 64, 67, 0.15);\n",
              "    fill: var(--button-hover-fill-color);\n",
              "  }\n",
              "\n",
              "  .colab-df-quickchart-complete:disabled,\n",
              "  .colab-df-quickchart-complete:disabled:hover {\n",
              "    background-color: var(--disabled-bg-color);\n",
              "    fill: var(--disabled-fill-color);\n",
              "    box-shadow: none;\n",
              "  }\n",
              "\n",
              "  .colab-df-spinner {\n",
              "    border: 2px solid var(--fill-color);\n",
              "    border-color: transparent;\n",
              "    border-bottom-color: var(--fill-color);\n",
              "    animation:\n",
              "      spin 1s steps(1) infinite;\n",
              "  }\n",
              "\n",
              "  @keyframes spin {\n",
              "    0% {\n",
              "      border-color: transparent;\n",
              "      border-bottom-color: var(--fill-color);\n",
              "      border-left-color: var(--fill-color);\n",
              "    }\n",
              "    20% {\n",
              "      border-color: transparent;\n",
              "      border-left-color: var(--fill-color);\n",
              "      border-top-color: var(--fill-color);\n",
              "    }\n",
              "    30% {\n",
              "      border-color: transparent;\n",
              "      border-left-color: var(--fill-color);\n",
              "      border-top-color: var(--fill-color);\n",
              "      border-right-color: var(--fill-color);\n",
              "    }\n",
              "    40% {\n",
              "      border-color: transparent;\n",
              "      border-right-color: var(--fill-color);\n",
              "      border-top-color: var(--fill-color);\n",
              "    }\n",
              "    60% {\n",
              "      border-color: transparent;\n",
              "      border-right-color: var(--fill-color);\n",
              "    }\n",
              "    80% {\n",
              "      border-color: transparent;\n",
              "      border-right-color: var(--fill-color);\n",
              "      border-bottom-color: var(--fill-color);\n",
              "    }\n",
              "    90% {\n",
              "      border-color: transparent;\n",
              "      border-bottom-color: var(--fill-color);\n",
              "    }\n",
              "  }\n",
              "</style>\n",
              "\n",
              "  <script>\n",
              "    async function quickchart(key) {\n",
              "      const quickchartButtonEl =\n",
              "        document.querySelector('#' + key + ' button');\n",
              "      quickchartButtonEl.disabled = true;  // To prevent multiple clicks.\n",
              "      quickchartButtonEl.classList.add('colab-df-spinner');\n",
              "      try {\n",
              "        const charts = await google.colab.kernel.invokeFunction(\n",
              "            'suggestCharts', [key], {});\n",
              "      } catch (error) {\n",
              "        console.error('Error during call to suggestCharts:', error);\n",
              "      }\n",
              "      quickchartButtonEl.classList.remove('colab-df-spinner');\n",
              "      quickchartButtonEl.classList.add('colab-df-quickchart-complete');\n",
              "    }\n",
              "    (() => {\n",
              "      let quickchartButtonEl =\n",
              "        document.querySelector('#df-8e8781dd-1b00-4f91-8837-32b9614cbeec button');\n",
              "      quickchartButtonEl.style.display =\n",
              "        google.colab.kernel.accessAllowed ? 'block' : 'none';\n",
              "    })();\n",
              "  </script>\n",
              "</div>\n",
              "\n",
              "  <div id=\"id_686e0517-b9c9-446e-b5f9-2755d3314b6c\">\n",
              "    <style>\n",
              "      .colab-df-generate {\n",
              "        background-color: #E8F0FE;\n",
              "        border: none;\n",
              "        border-radius: 50%;\n",
              "        cursor: pointer;\n",
              "        display: none;\n",
              "        fill: #1967D2;\n",
              "        height: 32px;\n",
              "        padding: 0 0 0 0;\n",
              "        width: 32px;\n",
              "      }\n",
              "\n",
              "      .colab-df-generate:hover {\n",
              "        background-color: #E2EBFA;\n",
              "        box-shadow: 0px 1px 2px rgba(60, 64, 67, 0.3), 0px 1px 3px 1px rgba(60, 64, 67, 0.15);\n",
              "        fill: #174EA6;\n",
              "      }\n",
              "\n",
              "      [theme=dark] .colab-df-generate {\n",
              "        background-color: #3B4455;\n",
              "        fill: #D2E3FC;\n",
              "      }\n",
              "\n",
              "      [theme=dark] .colab-df-generate:hover {\n",
              "        background-color: #434B5C;\n",
              "        box-shadow: 0px 1px 3px 1px rgba(0, 0, 0, 0.15);\n",
              "        filter: drop-shadow(0px 1px 2px rgba(0, 0, 0, 0.3));\n",
              "        fill: #FFFFFF;\n",
              "      }\n",
              "    </style>\n",
              "    <button class=\"colab-df-generate\" onclick=\"generateWithVariable('df')\"\n",
              "            title=\"Generate code using this dataframe.\"\n",
              "            style=\"display:none;\">\n",
              "\n",
              "  <svg xmlns=\"http://www.w3.org/2000/svg\" height=\"24px\"viewBox=\"0 0 24 24\"\n",
              "       width=\"24px\">\n",
              "    <path d=\"M7,19H8.4L18.45,9,17,7.55,7,17.6ZM5,21V16.75L18.45,3.32a2,2,0,0,1,2.83,0l1.4,1.43a1.91,1.91,0,0,1,.58,1.4,1.91,1.91,0,0,1-.58,1.4L9.25,21ZM18.45,9,17,7.55Zm-12,3A5.31,5.31,0,0,0,4.9,8.1,5.31,5.31,0,0,0,1,6.5,5.31,5.31,0,0,0,4.9,4.9,5.31,5.31,0,0,0,6.5,1,5.31,5.31,0,0,0,8.1,4.9,5.31,5.31,0,0,0,12,6.5,5.46,5.46,0,0,0,6.5,12Z\"/>\n",
              "  </svg>\n",
              "    </button>\n",
              "    <script>\n",
              "      (() => {\n",
              "      const buttonEl =\n",
              "        document.querySelector('#id_686e0517-b9c9-446e-b5f9-2755d3314b6c button.colab-df-generate');\n",
              "      buttonEl.style.display =\n",
              "        google.colab.kernel.accessAllowed ? 'block' : 'none';\n",
              "\n",
              "      buttonEl.onclick = () => {\n",
              "        google.colab.notebook.generateWithVariable('df');\n",
              "      }\n",
              "      })();\n",
              "    </script>\n",
              "  </div>\n",
              "\n",
              "    </div>\n",
              "  </div>\n"
            ],
            "application/vnd.google.colaboratory.intrinsic+json": {
              "type": "dataframe",
              "variable_name": "df",
              "summary": "{\n  \"name\": \"df\",\n  \"rows\": 2000,\n  \"fields\": [\n    {\n      \"column\": 0,\n      \"properties\": {\n        \"dtype\": \"number\",\n        \"std\": 11,\n        \"min\": -74,\n        \"max\": -10,\n        \"num_unique_values\": 55,\n        \"samples\": [\n          -19,\n          -62,\n          -18\n        ],\n        \"semantic_type\": \"\",\n        \"description\": \"\"\n      }\n    },\n    {\n      \"column\": 1,\n      \"properties\": {\n        \"dtype\": \"number\",\n        \"std\": 3,\n        \"min\": -74,\n        \"max\": -45,\n        \"num_unique_values\": 26,\n        \"samples\": [\n          -54,\n          -50,\n          -56\n        ],\n        \"semantic_type\": \"\",\n        \"description\": \"\"\n      }\n    },\n    {\n      \"column\": 2,\n      \"properties\": {\n        \"dtype\": \"number\",\n        \"std\": 5,\n        \"min\": -73,\n        \"max\": -40,\n        \"num_unique_values\": 33,\n        \"samples\": [\n          -41,\n          -53,\n          -46\n        ],\n        \"semantic_type\": \"\",\n        \"description\": \"\"\n      }\n    },\n    {\n      \"column\": 3,\n      \"properties\": {\n        \"dtype\": \"number\",\n        \"std\": 11,\n        \"min\": -77,\n        \"max\": -11,\n        \"num_unique_values\": 59,\n        \"samples\": [\n          -66,\n          -68,\n          -15\n        ],\n        \"semantic_type\": \"\",\n        \"description\": \"\"\n      }\n    },\n    {\n      \"column\": 4,\n      \"properties\": {\n        \"dtype\": \"number\",\n        \"std\": 9,\n        \"min\": -89,\n        \"max\": -36,\n        \"num_unique_values\": 50,\n        \"samples\": [\n          -81,\n          -50,\n          -57\n        ],\n        \"semantic_type\": \"\",\n        \"description\": \"\"\n      }\n    },\n    {\n      \"column\": 5,\n      \"properties\": {\n        \"dtype\": \"number\",\n        \"std\": 6,\n        \"min\": -97,\n        \"max\": -61,\n        \"num_unique_values\": 37,\n        \"samples\": [\n          -78,\n          -77,\n          -88\n        ],\n        \"semantic_type\": \"\",\n        \"description\": \"\"\n      }\n    },\n    {\n      \"column\": 6,\n      \"properties\": {\n        \"dtype\": \"number\",\n        \"std\": 6,\n        \"min\": -98,\n        \"max\": -63,\n        \"num_unique_values\": 35,\n        \"samples\": [\n          -71,\n          -92,\n          -73\n        ],\n        \"semantic_type\": \"\",\n        \"description\": \"\"\n      }\n    },\n    {\n      \"column\": \"Target\",\n      \"properties\": {\n        \"dtype\": \"category\",\n        \"num_unique_values\": 4,\n        \"samples\": [\n          \"Hallway\",\n          \"Patio\",\n          \"Kitchen\"\n        ],\n        \"semantic_type\": \"\",\n        \"description\": \"\"\n      }\n    }\n  ]\n}"
            }
          },
          "metadata": {},
          "execution_count": 2
        }
      ]
    },
    {
      "cell_type": "markdown",
      "source": [
        "**WiFi Signals Dataset**\n",
        "\n",
        "* The dataset consists of 7 columns representing WiFi signal data, and a target column indicating the room labels (1 for 'Kitchen', 2 for 'Hallway', 3 for 'Livingroom', and 4 for 'Patio'). Each row corresponds to a set of WiFi signal measurements for a specific instance. This dataset is suitable for room classification tasks, where the goal is to predict the room based on the patterns in WiFi signal strength. The target labels provide a clear mapping to room categories, facilitating supervised learning for room recognition or localization.\n"
      ],
      "metadata": {
        "id": "D3GgRdep3eg4"
      }
    },
    {
      "cell_type": "markdown",
      "source": [
        "# ML Models Training"
      ],
      "metadata": {
        "id": "QOM3U0nwODNK"
      }
    },
    {
      "cell_type": "code",
      "source": [
        "X = df.iloc[:, 0:-1].to_numpy()\n",
        "y = df.iloc[:, -1].to_numpy()\n",
        "import matplotlib.pyplot as plt\n",
        "from sklearn.tree import DecisionTreeClassifier, plot_tree\n",
        "from sklearn.model_selection import train_test_split\n",
        "X_train,X_test, y_train, y_test = train_test_split(X,y,test_size=0.3)\n",
        "from sklearn.ensemble import RandomForestClassifier\n",
        "classifier = RandomForestClassifier()\n",
        "classifier.fit(X_train,y_train)"
      ],
      "metadata": {
        "colab": {
          "base_uri": "https://localhost:8080/",
          "height": 82
        },
        "id": "rR2Z3HSWXiL_",
        "outputId": "35151824-b4d1-479c-df25-6075c45317a8"
      },
      "execution_count": null,
      "outputs": [
        {
          "output_type": "execute_result",
          "data": {
            "text/plain": [
              "RandomForestClassifier()"
            ],
            "text/html": [
              "<style>#sk-container-id-1 {color: black;background-color: white;}#sk-container-id-1 pre{padding: 0;}#sk-container-id-1 div.sk-toggleable {background-color: white;}#sk-container-id-1 label.sk-toggleable__label {cursor: pointer;display: block;width: 100%;margin-bottom: 0;padding: 0.3em;box-sizing: border-box;text-align: center;}#sk-container-id-1 label.sk-toggleable__label-arrow:before {content: \"▸\";float: left;margin-right: 0.25em;color: #696969;}#sk-container-id-1 label.sk-toggleable__label-arrow:hover:before {color: black;}#sk-container-id-1 div.sk-estimator:hover label.sk-toggleable__label-arrow:before {color: black;}#sk-container-id-1 div.sk-toggleable__content {max-height: 0;max-width: 0;overflow: hidden;text-align: left;background-color: #f0f8ff;}#sk-container-id-1 div.sk-toggleable__content pre {margin: 0.2em;color: black;border-radius: 0.25em;background-color: #f0f8ff;}#sk-container-id-1 input.sk-toggleable__control:checked~div.sk-toggleable__content {max-height: 200px;max-width: 100%;overflow: auto;}#sk-container-id-1 input.sk-toggleable__control:checked~label.sk-toggleable__label-arrow:before {content: \"▾\";}#sk-container-id-1 div.sk-estimator input.sk-toggleable__control:checked~label.sk-toggleable__label {background-color: #d4ebff;}#sk-container-id-1 div.sk-label input.sk-toggleable__control:checked~label.sk-toggleable__label {background-color: #d4ebff;}#sk-container-id-1 input.sk-hidden--visually {border: 0;clip: rect(1px 1px 1px 1px);clip: rect(1px, 1px, 1px, 1px);height: 1px;margin: -1px;overflow: hidden;padding: 0;position: absolute;width: 1px;}#sk-container-id-1 div.sk-estimator {font-family: monospace;background-color: #f0f8ff;border: 1px dotted black;border-radius: 0.25em;box-sizing: border-box;margin-bottom: 0.5em;}#sk-container-id-1 div.sk-estimator:hover {background-color: #d4ebff;}#sk-container-id-1 div.sk-parallel-item::after {content: \"\";width: 100%;border-bottom: 1px solid gray;flex-grow: 1;}#sk-container-id-1 div.sk-label:hover label.sk-toggleable__label {background-color: #d4ebff;}#sk-container-id-1 div.sk-serial::before {content: \"\";position: absolute;border-left: 1px solid gray;box-sizing: border-box;top: 0;bottom: 0;left: 50%;z-index: 0;}#sk-container-id-1 div.sk-serial {display: flex;flex-direction: column;align-items: center;background-color: white;padding-right: 0.2em;padding-left: 0.2em;position: relative;}#sk-container-id-1 div.sk-item {position: relative;z-index: 1;}#sk-container-id-1 div.sk-parallel {display: flex;align-items: stretch;justify-content: center;background-color: white;position: relative;}#sk-container-id-1 div.sk-item::before, #sk-container-id-1 div.sk-parallel-item::before {content: \"\";position: absolute;border-left: 1px solid gray;box-sizing: border-box;top: 0;bottom: 0;left: 50%;z-index: -1;}#sk-container-id-1 div.sk-parallel-item {display: flex;flex-direction: column;z-index: 1;position: relative;background-color: white;}#sk-container-id-1 div.sk-parallel-item:first-child::after {align-self: flex-end;width: 50%;}#sk-container-id-1 div.sk-parallel-item:last-child::after {align-self: flex-start;width: 50%;}#sk-container-id-1 div.sk-parallel-item:only-child::after {width: 0;}#sk-container-id-1 div.sk-dashed-wrapped {border: 1px dashed gray;margin: 0 0.4em 0.5em 0.4em;box-sizing: border-box;padding-bottom: 0.4em;background-color: white;}#sk-container-id-1 div.sk-label label {font-family: monospace;font-weight: bold;display: inline-block;line-height: 1.2em;}#sk-container-id-1 div.sk-label-container {text-align: center;}#sk-container-id-1 div.sk-container {/* jupyter's `normalize.less` sets `[hidden] { display: none; }` but bootstrap.min.css set `[hidden] { display: none !important; }` so we also need the `!important` here to be able to override the default hidden behavior on the sphinx rendered scikit-learn.org. See: https://github.com/scikit-learn/scikit-learn/issues/21755 */display: inline-block !important;position: relative;}#sk-container-id-1 div.sk-text-repr-fallback {display: none;}</style><div id=\"sk-container-id-1\" class=\"sk-top-container\"><div class=\"sk-text-repr-fallback\"><pre>RandomForestClassifier()</pre><b>In a Jupyter environment, please rerun this cell to show the HTML representation or trust the notebook. <br />On GitHub, the HTML representation is unable to render, please try loading this page with nbviewer.org.</b></div><div class=\"sk-container\" hidden><div class=\"sk-item\"><div class=\"sk-estimator sk-toggleable\"><input class=\"sk-toggleable__control sk-hidden--visually\" id=\"sk-estimator-id-1\" type=\"checkbox\" checked><label for=\"sk-estimator-id-1\" class=\"sk-toggleable__label sk-toggleable__label-arrow\">RandomForestClassifier</label><div class=\"sk-toggleable__content\"><pre>RandomForestClassifier()</pre></div></div></div></div></div>"
            ]
          },
          "metadata": {},
          "execution_count": 3
        }
      ]
    },
    {
      "cell_type": "code",
      "source": [
        "from sklearn.metrics import confusion_matrix\n",
        "y_pred = classifier.predict(X_test)\n",
        "labels = classifier.classes_\n",
        "cm = confusion_matrix(y_test, y_pred, labels=labels)\n",
        "print(np.trace(cm)/y_test.shape[0])\n",
        "pd.DataFrame(cm, index=labels, columns=labels)"
      ],
      "metadata": {
        "colab": {
          "base_uri": "https://localhost:8080/",
          "height": 215
        },
        "id": "2dj_zW6XXvzm",
        "outputId": "993dca36-1160-4b4e-d535-5d3fce55c43d"
      },
      "execution_count": null,
      "outputs": [
        {
          "output_type": "stream",
          "name": "stdout",
          "text": [
            "0.9866666666666667\n"
          ]
        },
        {
          "output_type": "execute_result",
          "data": {
            "text/plain": [
              "            Hallway  Kitchen  Livingroom  Patio\n",
              "Hallway         150        0           4      0\n",
              "Kitchen           0      156           0      0\n",
              "Livingroom        2        0         134      1\n",
              "Patio             0        1           0    152"
            ],
            "text/html": [
              "\n",
              "  <div id=\"df-f3f84893-efaf-417f-a76a-6cc7eff8bc30\" class=\"colab-df-container\">\n",
              "    <div>\n",
              "<style scoped>\n",
              "    .dataframe tbody tr th:only-of-type {\n",
              "        vertical-align: middle;\n",
              "    }\n",
              "\n",
              "    .dataframe tbody tr th {\n",
              "        vertical-align: top;\n",
              "    }\n",
              "\n",
              "    .dataframe thead th {\n",
              "        text-align: right;\n",
              "    }\n",
              "</style>\n",
              "<table border=\"1\" class=\"dataframe\">\n",
              "  <thead>\n",
              "    <tr style=\"text-align: right;\">\n",
              "      <th></th>\n",
              "      <th>Hallway</th>\n",
              "      <th>Kitchen</th>\n",
              "      <th>Livingroom</th>\n",
              "      <th>Patio</th>\n",
              "    </tr>\n",
              "  </thead>\n",
              "  <tbody>\n",
              "    <tr>\n",
              "      <th>Hallway</th>\n",
              "      <td>150</td>\n",
              "      <td>0</td>\n",
              "      <td>4</td>\n",
              "      <td>0</td>\n",
              "    </tr>\n",
              "    <tr>\n",
              "      <th>Kitchen</th>\n",
              "      <td>0</td>\n",
              "      <td>156</td>\n",
              "      <td>0</td>\n",
              "      <td>0</td>\n",
              "    </tr>\n",
              "    <tr>\n",
              "      <th>Livingroom</th>\n",
              "      <td>2</td>\n",
              "      <td>0</td>\n",
              "      <td>134</td>\n",
              "      <td>1</td>\n",
              "    </tr>\n",
              "    <tr>\n",
              "      <th>Patio</th>\n",
              "      <td>0</td>\n",
              "      <td>1</td>\n",
              "      <td>0</td>\n",
              "      <td>152</td>\n",
              "    </tr>\n",
              "  </tbody>\n",
              "</table>\n",
              "</div>\n",
              "    <div class=\"colab-df-buttons\">\n",
              "\n",
              "  <div class=\"colab-df-container\">\n",
              "    <button class=\"colab-df-convert\" onclick=\"convertToInteractive('df-f3f84893-efaf-417f-a76a-6cc7eff8bc30')\"\n",
              "            title=\"Convert this dataframe to an interactive table.\"\n",
              "            style=\"display:none;\">\n",
              "\n",
              "  <svg xmlns=\"http://www.w3.org/2000/svg\" height=\"24px\" viewBox=\"0 -960 960 960\">\n",
              "    <path d=\"M120-120v-720h720v720H120Zm60-500h600v-160H180v160Zm220 220h160v-160H400v160Zm0 220h160v-160H400v160ZM180-400h160v-160H180v160Zm440 0h160v-160H620v160ZM180-180h160v-160H180v160Zm440 0h160v-160H620v160Z\"/>\n",
              "  </svg>\n",
              "    </button>\n",
              "\n",
              "  <style>\n",
              "    .colab-df-container {\n",
              "      display:flex;\n",
              "      gap: 12px;\n",
              "    }\n",
              "\n",
              "    .colab-df-convert {\n",
              "      background-color: #E8F0FE;\n",
              "      border: none;\n",
              "      border-radius: 50%;\n",
              "      cursor: pointer;\n",
              "      display: none;\n",
              "      fill: #1967D2;\n",
              "      height: 32px;\n",
              "      padding: 0 0 0 0;\n",
              "      width: 32px;\n",
              "    }\n",
              "\n",
              "    .colab-df-convert:hover {\n",
              "      background-color: #E2EBFA;\n",
              "      box-shadow: 0px 1px 2px rgba(60, 64, 67, 0.3), 0px 1px 3px 1px rgba(60, 64, 67, 0.15);\n",
              "      fill: #174EA6;\n",
              "    }\n",
              "\n",
              "    .colab-df-buttons div {\n",
              "      margin-bottom: 4px;\n",
              "    }\n",
              "\n",
              "    [theme=dark] .colab-df-convert {\n",
              "      background-color: #3B4455;\n",
              "      fill: #D2E3FC;\n",
              "    }\n",
              "\n",
              "    [theme=dark] .colab-df-convert:hover {\n",
              "      background-color: #434B5C;\n",
              "      box-shadow: 0px 1px 3px 1px rgba(0, 0, 0, 0.15);\n",
              "      filter: drop-shadow(0px 1px 2px rgba(0, 0, 0, 0.3));\n",
              "      fill: #FFFFFF;\n",
              "    }\n",
              "  </style>\n",
              "\n",
              "    <script>\n",
              "      const buttonEl =\n",
              "        document.querySelector('#df-f3f84893-efaf-417f-a76a-6cc7eff8bc30 button.colab-df-convert');\n",
              "      buttonEl.style.display =\n",
              "        google.colab.kernel.accessAllowed ? 'block' : 'none';\n",
              "\n",
              "      async function convertToInteractive(key) {\n",
              "        const element = document.querySelector('#df-f3f84893-efaf-417f-a76a-6cc7eff8bc30');\n",
              "        const dataTable =\n",
              "          await google.colab.kernel.invokeFunction('convertToInteractive',\n",
              "                                                    [key], {});\n",
              "        if (!dataTable) return;\n",
              "\n",
              "        const docLinkHtml = 'Like what you see? Visit the ' +\n",
              "          '<a target=\"_blank\" href=https://colab.research.google.com/notebooks/data_table.ipynb>data table notebook</a>'\n",
              "          + ' to learn more about interactive tables.';\n",
              "        element.innerHTML = '';\n",
              "        dataTable['output_type'] = 'display_data';\n",
              "        await google.colab.output.renderOutput(dataTable, element);\n",
              "        const docLink = document.createElement('div');\n",
              "        docLink.innerHTML = docLinkHtml;\n",
              "        element.appendChild(docLink);\n",
              "      }\n",
              "    </script>\n",
              "  </div>\n",
              "\n",
              "\n",
              "<div id=\"df-cf307a55-c183-43bb-98e8-234f2439b9b0\">\n",
              "  <button class=\"colab-df-quickchart\" onclick=\"quickchart('df-cf307a55-c183-43bb-98e8-234f2439b9b0')\"\n",
              "            title=\"Suggest charts\"\n",
              "            style=\"display:none;\">\n",
              "\n",
              "<svg xmlns=\"http://www.w3.org/2000/svg\" height=\"24px\"viewBox=\"0 0 24 24\"\n",
              "     width=\"24px\">\n",
              "    <g>\n",
              "        <path d=\"M19 3H5c-1.1 0-2 .9-2 2v14c0 1.1.9 2 2 2h14c1.1 0 2-.9 2-2V5c0-1.1-.9-2-2-2zM9 17H7v-7h2v7zm4 0h-2V7h2v10zm4 0h-2v-4h2v4z\"/>\n",
              "    </g>\n",
              "</svg>\n",
              "  </button>\n",
              "\n",
              "<style>\n",
              "  .colab-df-quickchart {\n",
              "      --bg-color: #E8F0FE;\n",
              "      --fill-color: #1967D2;\n",
              "      --hover-bg-color: #E2EBFA;\n",
              "      --hover-fill-color: #174EA6;\n",
              "      --disabled-fill-color: #AAA;\n",
              "      --disabled-bg-color: #DDD;\n",
              "  }\n",
              "\n",
              "  [theme=dark] .colab-df-quickchart {\n",
              "      --bg-color: #3B4455;\n",
              "      --fill-color: #D2E3FC;\n",
              "      --hover-bg-color: #434B5C;\n",
              "      --hover-fill-color: #FFFFFF;\n",
              "      --disabled-bg-color: #3B4455;\n",
              "      --disabled-fill-color: #666;\n",
              "  }\n",
              "\n",
              "  .colab-df-quickchart {\n",
              "    background-color: var(--bg-color);\n",
              "    border: none;\n",
              "    border-radius: 50%;\n",
              "    cursor: pointer;\n",
              "    display: none;\n",
              "    fill: var(--fill-color);\n",
              "    height: 32px;\n",
              "    padding: 0;\n",
              "    width: 32px;\n",
              "  }\n",
              "\n",
              "  .colab-df-quickchart:hover {\n",
              "    background-color: var(--hover-bg-color);\n",
              "    box-shadow: 0 1px 2px rgba(60, 64, 67, 0.3), 0 1px 3px 1px rgba(60, 64, 67, 0.15);\n",
              "    fill: var(--button-hover-fill-color);\n",
              "  }\n",
              "\n",
              "  .colab-df-quickchart-complete:disabled,\n",
              "  .colab-df-quickchart-complete:disabled:hover {\n",
              "    background-color: var(--disabled-bg-color);\n",
              "    fill: var(--disabled-fill-color);\n",
              "    box-shadow: none;\n",
              "  }\n",
              "\n",
              "  .colab-df-spinner {\n",
              "    border: 2px solid var(--fill-color);\n",
              "    border-color: transparent;\n",
              "    border-bottom-color: var(--fill-color);\n",
              "    animation:\n",
              "      spin 1s steps(1) infinite;\n",
              "  }\n",
              "\n",
              "  @keyframes spin {\n",
              "    0% {\n",
              "      border-color: transparent;\n",
              "      border-bottom-color: var(--fill-color);\n",
              "      border-left-color: var(--fill-color);\n",
              "    }\n",
              "    20% {\n",
              "      border-color: transparent;\n",
              "      border-left-color: var(--fill-color);\n",
              "      border-top-color: var(--fill-color);\n",
              "    }\n",
              "    30% {\n",
              "      border-color: transparent;\n",
              "      border-left-color: var(--fill-color);\n",
              "      border-top-color: var(--fill-color);\n",
              "      border-right-color: var(--fill-color);\n",
              "    }\n",
              "    40% {\n",
              "      border-color: transparent;\n",
              "      border-right-color: var(--fill-color);\n",
              "      border-top-color: var(--fill-color);\n",
              "    }\n",
              "    60% {\n",
              "      border-color: transparent;\n",
              "      border-right-color: var(--fill-color);\n",
              "    }\n",
              "    80% {\n",
              "      border-color: transparent;\n",
              "      border-right-color: var(--fill-color);\n",
              "      border-bottom-color: var(--fill-color);\n",
              "    }\n",
              "    90% {\n",
              "      border-color: transparent;\n",
              "      border-bottom-color: var(--fill-color);\n",
              "    }\n",
              "  }\n",
              "</style>\n",
              "\n",
              "  <script>\n",
              "    async function quickchart(key) {\n",
              "      const quickchartButtonEl =\n",
              "        document.querySelector('#' + key + ' button');\n",
              "      quickchartButtonEl.disabled = true;  // To prevent multiple clicks.\n",
              "      quickchartButtonEl.classList.add('colab-df-spinner');\n",
              "      try {\n",
              "        const charts = await google.colab.kernel.invokeFunction(\n",
              "            'suggestCharts', [key], {});\n",
              "      } catch (error) {\n",
              "        console.error('Error during call to suggestCharts:', error);\n",
              "      }\n",
              "      quickchartButtonEl.classList.remove('colab-df-spinner');\n",
              "      quickchartButtonEl.classList.add('colab-df-quickchart-complete');\n",
              "    }\n",
              "    (() => {\n",
              "      let quickchartButtonEl =\n",
              "        document.querySelector('#df-cf307a55-c183-43bb-98e8-234f2439b9b0 button');\n",
              "      quickchartButtonEl.style.display =\n",
              "        google.colab.kernel.accessAllowed ? 'block' : 'none';\n",
              "    })();\n",
              "  </script>\n",
              "</div>\n",
              "\n",
              "    </div>\n",
              "  </div>\n"
            ],
            "application/vnd.google.colaboratory.intrinsic+json": {
              "type": "dataframe",
              "summary": "{\n  \"name\": \"pd\",\n  \"rows\": 4,\n  \"fields\": [\n    {\n      \"column\": \"Hallway\",\n      \"properties\": {\n        \"dtype\": \"number\",\n        \"std\": 74,\n        \"min\": 0,\n        \"max\": 150,\n        \"num_unique_values\": 3,\n        \"samples\": [\n          150,\n          0,\n          2\n        ],\n        \"semantic_type\": \"\",\n        \"description\": \"\"\n      }\n    },\n    {\n      \"column\": \"Kitchen\",\n      \"properties\": {\n        \"dtype\": \"number\",\n        \"std\": 77,\n        \"min\": 0,\n        \"max\": 156,\n        \"num_unique_values\": 3,\n        \"samples\": [\n          0,\n          156,\n          1\n        ],\n        \"semantic_type\": \"\",\n        \"description\": \"\"\n      }\n    },\n    {\n      \"column\": \"Livingroom\",\n      \"properties\": {\n        \"dtype\": \"number\",\n        \"std\": 66,\n        \"min\": 0,\n        \"max\": 134,\n        \"num_unique_values\": 3,\n        \"samples\": [\n          4,\n          0,\n          134\n        ],\n        \"semantic_type\": \"\",\n        \"description\": \"\"\n      }\n    },\n    {\n      \"column\": \"Patio\",\n      \"properties\": {\n        \"dtype\": \"number\",\n        \"std\": 75,\n        \"min\": 0,\n        \"max\": 152,\n        \"num_unique_values\": 3,\n        \"samples\": [\n          0,\n          1,\n          152\n        ],\n        \"semantic_type\": \"\",\n        \"description\": \"\"\n      }\n    }\n  ]\n}"
            }
          },
          "metadata": {},
          "execution_count": 4
        }
      ]
    },
    {
      "cell_type": "markdown",
      "source": [
        "**Interpretation**:\n",
        "- Rows represent the actual classes.\n",
        "- Columns represent the predicted classes.\n",
        "- Values in each cell indicate the number of instances.\n",
        "\n",
        "**Observations**:\n",
        "1. Hallway is misclassified as Livingroom 7 times.\n",
        "2. Kitchen is correctly classified with no errors.\n",
        "3. Livingroom has 2 instance misclassified as Hallway, 2 as Kitchen, and 2 as Patio.\n",
        "4. Patio is misclassified as Kitchen 1 time.\n",
        "\n",
        "**Overall Performance:**\n",
        "- Overall, the model seems to perform well with a few misclassifications.\n",
        "- The highest confusion occurs between Hallway and Livingroom.\n",
        "- Kitchen shows perfect classification, while other classes have minor errors.\n"
      ],
      "metadata": {
        "id": "IPzxL-4wr-Ce"
      }
    },
    {
      "cell_type": "code",
      "source": [
        "pTom = [-55, -52, -45, -49, -62, -79, -85]\n",
        "print('Tom is here: ', classifier.predict([pTom]))"
      ],
      "metadata": {
        "id": "OcmDFgWIX6SZ",
        "outputId": "f8ac772e-5526-49fb-ee35-eb72451a4994",
        "colab": {
          "base_uri": "https://localhost:8080/"
        }
      },
      "execution_count": null,
      "outputs": [
        {
          "output_type": "stream",
          "name": "stdout",
          "text": [
            "Tom is here:  ['Livingroom']\n"
          ]
        }
      ]
    },
    {
      "cell_type": "code",
      "source": [
        "clf = DecisionTreeClassifier().fit(X_train,y_train)"
      ],
      "metadata": {
        "id": "UVGILpGFF_T4"
      },
      "execution_count": null,
      "outputs": []
    },
    {
      "cell_type": "code",
      "source": [
        "from sklearn import tree\n",
        "tree.plot_tree(clf)"
      ],
      "metadata": {
        "colab": {
          "base_uri": "https://localhost:8080/",
          "height": 1000
        },
        "id": "DPJRnTxFGlYr",
        "outputId": "448be9e0-b303-41f7-f40c-49ca035d416c"
      },
      "execution_count": null,
      "outputs": [
        {
          "output_type": "execute_result",
          "data": {
            "text/plain": [
              "[Text(0.5489130434782609, 0.9666666666666667, 'x[0] <= -54.5\\ngini = 0.75\\nsamples = 1400\\nvalue = [346, 344, 363, 347]'),\n",
              " Text(0.30434782608695654, 0.9, 'x[4] <= -59.5\\ngini = 0.514\\nsamples = 698\\nvalue = [0, 344, 10, 344]'),\n",
              " Text(0.2028985507246377, 0.8333333333333334, 'x[3] <= -55.5\\ngini = 0.066\\nsamples = 356\\nvalue = [0, 344, 9, 3]'),\n",
              " Text(0.14492753623188406, 0.7666666666666667, 'x[2] <= -50.5\\ngini = 0.023\\nsamples = 347\\nvalue = [0, 343, 1, 3]'),\n",
              " Text(0.11594202898550725, 0.7, 'x[2] <= -51.5\\ngini = 0.012\\nsamples = 345\\nvalue = [0, 343, 1, 1]'),\n",
              " Text(0.057971014492753624, 0.6333333333333333, 'x[2] <= -54.5\\ngini = 0.006\\nsamples = 340\\nvalue = [0, 339, 0, 1]'),\n",
              " Text(0.028985507246376812, 0.5666666666666667, 'gini = 0.0\\nsamples = 324\\nvalue = [0, 324, 0, 0]'),\n",
              " Text(0.08695652173913043, 0.5666666666666667, 'x[5] <= -87.5\\ngini = 0.117\\nsamples = 16\\nvalue = [0, 15, 0, 1]'),\n",
              " Text(0.057971014492753624, 0.5, 'gini = 0.0\\nsamples = 1\\nvalue = [0, 0, 0, 1]'),\n",
              " Text(0.11594202898550725, 0.5, 'gini = 0.0\\nsamples = 15\\nvalue = [0, 15, 0, 0]'),\n",
              " Text(0.17391304347826086, 0.6333333333333333, 'x[6] <= -87.5\\ngini = 0.32\\nsamples = 5\\nvalue = [0, 4, 1, 0]'),\n",
              " Text(0.14492753623188406, 0.5666666666666667, 'gini = 0.0\\nsamples = 1\\nvalue = [0, 0, 1, 0]'),\n",
              " Text(0.2028985507246377, 0.5666666666666667, 'gini = 0.0\\nsamples = 4\\nvalue = [0, 4, 0, 0]'),\n",
              " Text(0.17391304347826086, 0.7, 'gini = 0.0\\nsamples = 2\\nvalue = [0, 0, 0, 2]'),\n",
              " Text(0.2608695652173913, 0.7666666666666667, 'x[1] <= -50.5\\ngini = 0.198\\nsamples = 9\\nvalue = [0, 1, 8, 0]'),\n",
              " Text(0.2318840579710145, 0.7, 'gini = 0.0\\nsamples = 7\\nvalue = [0, 0, 7, 0]'),\n",
              " Text(0.2898550724637681, 0.7, 'x[0] <= -59.0\\ngini = 0.5\\nsamples = 2\\nvalue = [0, 1, 1, 0]'),\n",
              " Text(0.2608695652173913, 0.6333333333333333, 'gini = 0.0\\nsamples = 1\\nvalue = [0, 0, 1, 0]'),\n",
              " Text(0.3188405797101449, 0.6333333333333333, 'gini = 0.0\\nsamples = 1\\nvalue = [0, 1, 0, 0]'),\n",
              " Text(0.4057971014492754, 0.8333333333333334, 'x[4] <= -57.0\\ngini = 0.006\\nsamples = 342\\nvalue = [0, 0, 1, 341]'),\n",
              " Text(0.37681159420289856, 0.7666666666666667, 'x[3] <= -57.5\\ngini = 0.375\\nsamples = 4\\nvalue = [0, 0, 1, 3]'),\n",
              " Text(0.34782608695652173, 0.7, 'gini = 0.0\\nsamples = 3\\nvalue = [0, 0, 0, 3]'),\n",
              " Text(0.4057971014492754, 0.7, 'gini = 0.0\\nsamples = 1\\nvalue = [0, 0, 1, 0]'),\n",
              " Text(0.43478260869565216, 0.7666666666666667, 'gini = 0.0\\nsamples = 338\\nvalue = [0, 0, 0, 338]'),\n",
              " Text(0.7934782608695652, 0.9, 'x[0] <= -44.5\\ngini = 0.504\\nsamples = 702\\nvalue = [346, 0, 353, 3]'),\n",
              " Text(0.6739130434782609, 0.8333333333333334, 'x[4] <= -70.5\\ngini = 0.221\\nsamples = 398\\nvalue = [47, 0, 348, 3]'),\n",
              " Text(0.5217391304347826, 0.7666666666666667, 'x[3] <= -49.5\\ngini = 0.291\\nsamples = 34\\nvalue = [28, 0, 6, 0]'),\n",
              " Text(0.463768115942029, 0.7, 'x[2] <= -58.0\\ngini = 0.278\\nsamples = 6\\nvalue = [1, 0, 5, 0]'),\n",
              " Text(0.43478260869565216, 0.6333333333333333, 'gini = 0.0\\nsamples = 1\\nvalue = [1, 0, 0, 0]'),\n",
              " Text(0.4927536231884058, 0.6333333333333333, 'gini = 0.0\\nsamples = 5\\nvalue = [0, 0, 5, 0]'),\n",
              " Text(0.5797101449275363, 0.7, 'x[2] <= -55.5\\ngini = 0.069\\nsamples = 28\\nvalue = [27, 0, 1, 0]'),\n",
              " Text(0.5507246376811594, 0.6333333333333333, 'gini = 0.0\\nsamples = 22\\nvalue = [22, 0, 0, 0]'),\n",
              " Text(0.6086956521739131, 0.6333333333333333, 'x[6] <= -79.5\\ngini = 0.278\\nsamples = 6\\nvalue = [5, 0, 1, 0]'),\n",
              " Text(0.5797101449275363, 0.5666666666666667, 'gini = 0.0\\nsamples = 1\\nvalue = [0, 0, 1, 0]'),\n",
              " Text(0.6376811594202898, 0.5666666666666667, 'gini = 0.0\\nsamples = 5\\nvalue = [5, 0, 0, 0]'),\n",
              " Text(0.8260869565217391, 0.7666666666666667, 'x[3] <= -39.0\\ngini = 0.114\\nsamples = 364\\nvalue = [19, 0, 342, 3]'),\n",
              " Text(0.7971014492753623, 0.7, 'x[4] <= -53.5\\ngini = 0.091\\nsamples = 359\\nvalue = [14, 0, 342, 3]'),\n",
              " Text(0.7681159420289855, 0.6333333333333333, 'x[6] <= -73.5\\ngini = 0.076\\nsamples = 356\\nvalue = [14, 0, 342, 0]'),\n",
              " Text(0.6956521739130435, 0.5666666666666667, 'x[5] <= -73.5\\ngini = 0.061\\nsamples = 350\\nvalue = [11, 0, 339, 0]'),\n",
              " Text(0.6376811594202898, 0.5, 'x[2] <= -63.5\\ngini = 0.051\\nsamples = 347\\nvalue = [9, 0, 338, 0]'),\n",
              " Text(0.6086956521739131, 0.43333333333333335, 'gini = 0.0\\nsamples = 1\\nvalue = [1, 0, 0, 0]'),\n",
              " Text(0.6666666666666666, 0.43333333333333335, 'x[3] <= -42.5\\ngini = 0.045\\nsamples = 346\\nvalue = [8, 0, 338, 0]'),\n",
              " Text(0.572463768115942, 0.36666666666666664, 'x[2] <= -54.5\\ngini = 0.035\\nsamples = 341\\nvalue = [6, 0, 335, 0]'),\n",
              " Text(0.47101449275362317, 0.3, 'x[3] <= -48.5\\ngini = 0.106\\nsamples = 89\\nvalue = [5, 0, 84, 0]'),\n",
              " Text(0.41304347826086957, 0.23333333333333334, 'x[5] <= -86.5\\ngini = 0.029\\nsamples = 68\\nvalue = [1, 0, 67, 0]'),\n",
              " Text(0.38405797101449274, 0.16666666666666666, 'x[2] <= -56.5\\ngini = 0.375\\nsamples = 4\\nvalue = [1, 0, 3, 0]'),\n",
              " Text(0.35507246376811596, 0.1, 'gini = 0.0\\nsamples = 3\\nvalue = [0, 0, 3, 0]'),\n",
              " Text(0.41304347826086957, 0.1, 'gini = 0.0\\nsamples = 1\\nvalue = [1, 0, 0, 0]'),\n",
              " Text(0.4420289855072464, 0.16666666666666666, 'gini = 0.0\\nsamples = 64\\nvalue = [0, 0, 64, 0]'),\n",
              " Text(0.5289855072463768, 0.23333333333333334, 'x[2] <= -55.5\\ngini = 0.308\\nsamples = 21\\nvalue = [4, 0, 17, 0]'),\n",
              " Text(0.5, 0.16666666666666666, 'gini = 0.0\\nsamples = 15\\nvalue = [0, 0, 15, 0]'),\n",
              " Text(0.5579710144927537, 0.16666666666666666, 'x[1] <= -54.5\\ngini = 0.444\\nsamples = 6\\nvalue = [4, 0, 2, 0]'),\n",
              " Text(0.5289855072463768, 0.1, 'x[4] <= -67.5\\ngini = 0.32\\nsamples = 5\\nvalue = [4, 0, 1, 0]'),\n",
              " Text(0.5, 0.03333333333333333, 'gini = 0.0\\nsamples = 1\\nvalue = [0, 0, 1, 0]'),\n",
              " Text(0.5579710144927537, 0.03333333333333333, 'gini = 0.0\\nsamples = 4\\nvalue = [4, 0, 0, 0]'),\n",
              " Text(0.5869565217391305, 0.1, 'gini = 0.0\\nsamples = 1\\nvalue = [0, 0, 1, 0]'),\n",
              " Text(0.6739130434782609, 0.3, 'x[1] <= -58.5\\ngini = 0.008\\nsamples = 252\\nvalue = [1, 0, 251, 0]'),\n",
              " Text(0.644927536231884, 0.23333333333333334, 'x[5] <= -78.0\\ngini = 0.095\\nsamples = 20\\nvalue = [1, 0, 19, 0]'),\n",
              " Text(0.6159420289855072, 0.16666666666666666, 'gini = 0.0\\nsamples = 18\\nvalue = [0, 0, 18, 0]'),\n",
              " Text(0.6739130434782609, 0.16666666666666666, 'x[3] <= -57.5\\ngini = 0.5\\nsamples = 2\\nvalue = [1, 0, 1, 0]'),\n",
              " Text(0.644927536231884, 0.1, 'gini = 0.0\\nsamples = 1\\nvalue = [0, 0, 1, 0]'),\n",
              " Text(0.7028985507246377, 0.1, 'gini = 0.0\\nsamples = 1\\nvalue = [1, 0, 0, 0]'),\n",
              " Text(0.7028985507246377, 0.23333333333333334, 'gini = 0.0\\nsamples = 232\\nvalue = [0, 0, 232, 0]'),\n",
              " Text(0.7608695652173914, 0.36666666666666664, 'x[0] <= -47.5\\ngini = 0.48\\nsamples = 5\\nvalue = [2, 0, 3, 0]'),\n",
              " Text(0.7318840579710145, 0.3, 'gini = 0.0\\nsamples = 3\\nvalue = [0, 0, 3, 0]'),\n",
              " Text(0.7898550724637681, 0.3, 'gini = 0.0\\nsamples = 2\\nvalue = [2, 0, 0, 0]'),\n",
              " Text(0.7536231884057971, 0.5, 'x[1] <= -61.0\\ngini = 0.444\\nsamples = 3\\nvalue = [2, 0, 1, 0]'),\n",
              " Text(0.7246376811594203, 0.43333333333333335, 'gini = 0.0\\nsamples = 1\\nvalue = [0, 0, 1, 0]'),\n",
              " Text(0.782608695652174, 0.43333333333333335, 'gini = 0.0\\nsamples = 2\\nvalue = [2, 0, 0, 0]'),\n",
              " Text(0.8405797101449275, 0.5666666666666667, 'x[5] <= -78.5\\ngini = 0.5\\nsamples = 6\\nvalue = [3, 0, 3, 0]'),\n",
              " Text(0.8115942028985508, 0.5, 'gini = 0.0\\nsamples = 3\\nvalue = [0, 0, 3, 0]'),\n",
              " Text(0.8695652173913043, 0.5, 'gini = 0.0\\nsamples = 3\\nvalue = [3, 0, 0, 0]'),\n",
              " Text(0.8260869565217391, 0.6333333333333333, 'gini = 0.0\\nsamples = 3\\nvalue = [0, 0, 0, 3]'),\n",
              " Text(0.855072463768116, 0.7, 'gini = 0.0\\nsamples = 5\\nvalue = [5, 0, 0, 0]'),\n",
              " Text(0.9130434782608695, 0.8333333333333334, 'x[3] <= -51.5\\ngini = 0.032\\nsamples = 304\\nvalue = [299, 0, 5, 0]'),\n",
              " Text(0.8840579710144928, 0.7666666666666667, 'gini = 0.0\\nsamples = 3\\nvalue = [0, 0, 3, 0]'),\n",
              " Text(0.9420289855072463, 0.7666666666666667, 'x[5] <= -83.5\\ngini = 0.013\\nsamples = 301\\nvalue = [299, 0, 2, 0]'),\n",
              " Text(0.9130434782608695, 0.7, 'x[0] <= -42.0\\ngini = 0.444\\nsamples = 3\\nvalue = [1, 0, 2, 0]'),\n",
              " Text(0.8840579710144928, 0.6333333333333333, 'gini = 0.0\\nsamples = 2\\nvalue = [0, 0, 2, 0]'),\n",
              " Text(0.9420289855072463, 0.6333333333333333, 'gini = 0.0\\nsamples = 1\\nvalue = [1, 0, 0, 0]'),\n",
              " Text(0.9710144927536232, 0.7, 'gini = 0.0\\nsamples = 298\\nvalue = [298, 0, 0, 0]')]"
            ]
          },
          "metadata": {},
          "execution_count": 7
        },
        {
          "output_type": "display_data",
          "data": {
            "text/plain": [
              "<Figure size 640x480 with 1 Axes>"
            ],
            "image/png": "[encoded data removed]"
          },
          "metadata": {}
        }
      ]
    },
    {
      "cell_type": "code",
      "source": [
        "from sklearn import metrics\n",
        "from sklearn.metrics import accuracy_score, precision_score, recall_score, f1_score\n",
        "average = \"micro\"\n",
        "print(\"ACC\", accuracy_score(y_true=y_test, y_pred=y_pred))\n",
        "print(\"Precision\", precision_score(y_true=y_test, y_pred=y_pred, average=average))\n",
        "print(\"Recall\", recall_score(y_true=y_test, y_pred=y_pred,average=average))\n",
        "print(\"F1 Score\", f1_score(y_true=y_test, y_pred=y_pred, average=average))"
      ],
      "metadata": {
        "colab": {
          "base_uri": "https://localhost:8080/"
        },
        "id": "tcuNbneVQBhQ",
        "outputId": "c5fed97e-62aa-481a-95fc-a1c1257f5ae7"
      },
      "execution_count": null,
      "outputs": [
        {
          "output_type": "stream",
          "name": "stdout",
          "text": [
            "ACC 0.9866666666666667\n",
            "Precision 0.9866666666666667\n",
            "Recall 0.9866666666666667\n",
            "F1 Score 0.9866666666666668\n"
          ]
        }
      ]
    },
    {
      "cell_type": "markdown",
      "source": [
        "\n",
        "- **Accuracy (ACC):** 98.33%\n",
        "  - The overall accuracy of the model in correctly predicting the classes.\n",
        "\n",
        "- **Precision:**\n",
        "  - Class 1 (Kitchen): 99.28%\n",
        "  - Class 2 (Hallway): 98.17%\n",
        "  - Class 3 (Livingroom): 97.30%\n",
        "  - Class 4 (Patio): 98.66%\n",
        "  - Precision measures the accuracy of positive predictions.\n",
        "\n",
        "- **Recall:**\n",
        "  - Class 1 (Kitchen): 97.18%\n",
        "  - Class 2 (Hallway): 100.00%\n",
        "  - Class 3 (Livingroom): 96.64%\n",
        "  - Class 4 (Patio): 99.32%\n",
        "  - Recall measures the ability to capture positive instances.\n",
        "\n",
        "- **F1 Score:**\n",
        "  - Class 1 (Kitchen): 98.22%\n",
        "  - Class 2 (Hallway): 99.08%\n",
        "  - Class 3 (Livingroom): 96.97%\n",
        "  - Class 4 (Patio): 98.99%\n",
        "  - F1 Score is the harmonic mean of precision and recall, providing a balanced measure.\n",
        "\n",
        "________________________________________________________________________________\n",
        "- The overall accuracy is high (98.33%), indicating a well-performing model.\n",
        "- Precision, Recall, and F1 Score for each class demonstrate a good balance between precision and recall.\n",
        "- Class 3 (Index 2) has slightly lower precision and recall compared to others, but overall performance is still impressive.\n",
        "- These metrics collectively suggest that the model performs well across different aspects of classification.\n"
      ],
      "metadata": {
        "id": "c2tthyFJtV5b"
      }
    },
    {
      "cell_type": "markdown",
      "source": [
        "# Data Analysis and Visualization"
      ],
      "metadata": {
        "id": "nHykTb86PnYS"
      }
    },
    {
      "cell_type": "code",
      "source": [
        "from sklearn.metrics import confusion_matrix\n",
        "confusion_matrix=confusion_matrix(y_test, y_pred)\n",
        "confusion_matrix"
      ],
      "metadata": {
        "colab": {
          "base_uri": "https://localhost:8080/"
        },
        "id": "O-WNm2sJRwy9",
        "outputId": "3270b4e5-fb1a-45d1-f441-2343359ecad4"
      },
      "execution_count": null,
      "outputs": [
        {
          "output_type": "execute_result",
          "data": {
            "text/plain": [
              "array([[137,   0,   7,   0],\n",
              "       [  0, 144,   0,   0],\n",
              "       [  2,   1, 153,   1],\n",
              "       [  0,   1,   0, 154]])"
            ]
          },
          "metadata": {},
          "execution_count": 47
        }
      ]
    },
    {
      "cell_type": "code",
      "source": [
        "from mlxtend.plotting import plot_confusion_matrix\n",
        "import matplotlib.pyplot as plt\n",
        "fig, ax = plot_confusion_matrix(conf_mat=confusion_matrix, figsize=(5,5))\n",
        "plt.show()"
      ],
      "metadata": {
        "colab": {
          "base_uri": "https://localhost:8080/",
          "height": 465
        },
        "id": "8ZgdraVwR2ZS",
        "outputId": "1b5258ed-ae85-4f51-9b38-94af6a265605"
      },
      "execution_count": null,
      "outputs": [
        {
          "output_type": "display_data",
          "data": {
            "text/plain": [
              "<Figure size 500x500 with 1 Axes>"
            ],
            "image/png": "[encoded data removed]"
          },
          "metadata": {}
        }
      ]
    },
    {
      "cell_type": "code",
      "source": [
        "import matplotlib.pyplot as plt\n",
        "import numpy\n",
        "from sklearn import metrics\n",
        "\n",
        "actual = numpy.random.binomial(1,.9,size = 1000)\n",
        "predicted = numpy.random.binomial(1,.9,size = 1000)\n",
        "\n",
        "confusion_matrix = metrics.confusion_matrix(actual, predicted)\n",
        "\n",
        "cm_display = metrics.ConfusionMatrixDisplay(confusion_matrix = confusion_matrix, display_labels = [False, True])\n",
        "\n",
        "cm_display.plot()\n",
        "plt.show()"
      ],
      "metadata": {
        "colab": {
          "base_uri": "https://localhost:8080/",
          "height": 449
        },
        "id": "l4f9dXDDlm_w",
        "outputId": "6cace833-61bf-4592-ec72-65172484bacd"
      },
      "execution_count": null,
      "outputs": [
        {
          "output_type": "display_data",
          "data": {
            "text/plain": [
              "<Figure size 640x480 with 2 Axes>"
            ],
            "image/png": "[encoded data removed]"
          },
          "metadata": {}
        }
      ]
    },
    {
      "cell_type": "code",
      "source": [
        "import matplotlib.pyplot as plt\n",
        "plt.hist(df[0])"
      ],
      "metadata": {
        "colab": {
          "base_uri": "https://localhost:8080/",
          "height": 518
        },
        "id": "q75fM8esmanU",
        "outputId": "da93a0e1-f395-43cc-aee3-1b920f8c8f1e"
      },
      "execution_count": null,
      "outputs": [
        {
          "output_type": "execute_result",
          "data": {
            "text/plain": [
              "(array([ 41., 416., 555., 351., 232., 301.,  40.,   5.,  30.,  29.]),\n",
              " array([-74. , -67.6, -61.2, -54.8, -48.4, -42. , -35.6, -29.2, -22.8,\n",
              "        -16.4, -10. ]),\n",
              " <BarContainer object of 10 artists>)"
            ]
          },
          "metadata": {},
          "execution_count": 50
        },
        {
          "output_type": "display_data",
          "data": {
            "text/plain": [
              "<Figure size 640x480 with 1 Axes>"
            ],
            "image/png": "[encoded data removed]"
          },
          "metadata": {}
        }
      ]
    },
    {
      "cell_type": "markdown",
      "source": [
        "# K-means"
      ],
      "metadata": {
        "id": "Sho_RTXzPvcq"
      }
    },
    {
      "cell_type": "code",
      "source": [
        "Xu = np.loadtxt(fn)[:,:-1]\n",
        "Yu = np.loadtxt(fn)[:,-1]\n",
        "from sklearn.cluster import KMeans\n",
        "clusters = 4\n",
        "kmeans = KMeans(n_clusters=clusters, init='k-means++', max_iter=300, n_init=10, random_state=0)\n",
        "kmeans.fit(Xu)\n",
        "y_pred = kmeans.predict(Xu)\n",
        "clusterCenters = kmeans.cluster_centers_"
      ],
      "metadata": {
        "id": "KSzEcOuIb-us"
      },
      "execution_count": null,
      "outputs": []
    },
    {
      "cell_type": "code",
      "source": [
        "import numpy as np\n",
        "import matplotlib.pyplot as plt\n",
        "cluster_names = ['Hallway', 'Patio','Kitchen', 'Livingroom']\n",
        "x1, x2 = 4, 0\n",
        "colormap = np.array(['yellow', 'lightgreen', 'lightblue', 'orange'])\n",
        "plt.figure(figsize=(6, 4), dpi=120)\n",
        "plt.scatter(Xu[:, x1], Xu[:, x2], s=10, c=colormap[y_pred])\n",
        "plt.scatter(clusterCenters[:, x1], clusterCenters[:, x2], s=50, c='black', marker='X')\n",
        "for x, y, name in zip(clusterCenters[:, x1], clusterCenters[:, x2], cluster_names):\n",
        "    plt.text(x, y, name, fontsize=12, ha='right', va='bottom', color='black', fontweight='bold')\n",
        "\n",
        "plt.xlabel(f'x1')\n",
        "plt.ylabel(f'x2')\n",
        "plt.show()\n"
      ],
      "metadata": {
        "colab": {
          "base_uri": "https://localhost:8080/",
          "height": 464
        },
        "id": "Um7FzxPNcKNC",
        "outputId": "aad2cea6-689e-4c12-adfe-7d58d2bd3e6f"
      },
      "execution_count": null,
      "outputs": [
        {
          "output_type": "display_data",
          "data": {
            "text/plain": [
              "<Figure size 720x480 with 1 Axes>"
            ],
            "image/png": "[encoded data removed]"
          },
          "metadata": {}
        }
      ]
    },
    {
      "cell_type": "code",
      "source": [
        "from sklearn.metrics import silhouette_score\n",
        "print(f'Input data shape: {Xu.shape}')\n",
        "print(f'Inertia:  {kmeans.inertia_:3.1f}')"
      ],
      "metadata": {
        "colab": {
          "base_uri": "https://localhost:8080/"
        },
        "id": "CZk9DSyOAQVF",
        "outputId": "11e54dbc-efb6-4cb9-9118-af4b7e765776"
      },
      "execution_count": null,
      "outputs": [
        {
          "output_type": "stream",
          "name": "stdout",
          "text": [
            "Input data shape: (2000, 7)\n",
            "Inertia:  246771.6\n"
          ]
        }
      ]
    },
    {
      "cell_type": "code",
      "source": [
        "wcss = []\n",
        "for i in range(2, 11):\n",
        "  kmeans = KMeans(n_clusters=i, init='k-means++', max_iter=300, n_init=10, random_state=0)\n",
        "  kmeans.fit(Xu)\n",
        "  wcss.append([i,kmeans.inertia_])\n",
        "\n",
        "wcss = np.array(wcss)\n",
        "wcss\n",
        "plt.scatter(wcss[:, 0], wcss[:, 1])\n",
        "plt.plot(wcss[:, 0], wcss[:, 1])\n",
        "plt.title('Elbow Method')\n",
        "plt.xlabel('Number of clusters')\n",
        "plt.ylabel('WCSS')\n",
        "plt.show()"
      ],
      "metadata": {
        "colab": {
          "base_uri": "https://localhost:8080/",
          "height": 472
        },
        "id": "OS_sxQK5B7wm",
        "outputId": "1c12d364-e8e2-4956-94a3-ee2baeb646be"
      },
      "execution_count": null,
      "outputs": [
        {
          "output_type": "display_data",
          "data": {
            "text/plain": [
              "<Figure size 640x480 with 1 Axes>"
            ],
            "image/png": "[encoded data removed]"
          },
          "metadata": {}
        }
      ]
    },
    {
      "cell_type": "markdown",
      "source": [
        "***Observations from the Provided WCSS Plot:***\n",
        "**Graph Overview:**\n",
        "\n",
        "* The WCSS plot displays a clear downward trend as the number of clusters increases, indicating decreasing within-cluster sum of squares.\n",
        "\n",
        "**Key Points:**\n",
        "\n",
        "\n",
        "*   Point (2, 500000):\n",
        "\n",
        "As expected, with only 2 clusters, the WCSS is high, reflecting the inability to capture the inherent complexity of the data.\n",
        "\n",
        "* Point (3, 370000):\n",
        "\n",
        "A noticeable reduction in WCSS is observed as the number of clusters increases to 3, signifying improved clustering compared to 2 clusters.\n",
        "\n",
        "* Point (4, 250000):\n",
        "\n",
        "The most significant decrease in WCSS occurs when moving from 3 to 4 clusters, indicating that 4 clusters provide a substantial improvement in capturing data variance.\n",
        "\n",
        "* Points Beyond (4, 5, 6, 7, 8, 9, 10):\n",
        "\n",
        "While WCSS continues to decrease with additional clusters, the rate of reduction diminishes. Points from 5 onwards show a more gradual decrease, suggesting diminishing returns in clustering quality.\n",
        "\n",
        "**Elbow Identification:**\n",
        "\n",
        "\n",
        "* The clear \"elbow\" point is evident at 4 clusters, where the rate of WCSS reduction slows down. This aligns with the pre-defined expectation of having 4 clusters in the data."
      ],
      "metadata": {
        "id": "iCw-1WNwzQEv"
      }
    },
    {
      "cell_type": "markdown",
      "source": [
        "# Data Cleanup"
      ],
      "metadata": {
        "id": "b1WGpc2OCXaM"
      }
    },
    {
      "cell_type": "code",
      "source": [
        "dfu = pd.DataFrame(Xu, columns = [0, 1, 2, 3, 4, 5, 6])\n",
        "dfu['Target'] = kmeans.predict(Xu)\n",
        "kList = classifier.predict(clusterCenters)\n",
        "transD = {i: el for i, el in enumerate(kList)}\n",
        "dfu['Target'] = dfu['Target'].map(transD)"
      ],
      "metadata": {
        "id": "nTdWSly5AdyX"
      },
      "execution_count": null,
      "outputs": []
    },
    {
      "cell_type": "code",
      "source": [
        "dfDu = df.copy()\n",
        "dfDu['Targetu']= dfu['Target']\n",
        "dfDu[dfDu['Target'] != dfDu ['Targetu']].iloc[:,-2:]\n",
        "dfgroup = dfDu[dfDu['Target'] != dfDu ['Targetu']].iloc[:,-2:]\n",
        "dfgroup.groupby(['Target', 'Targetu'])['Targetu'].count()\n",
        "result_table = dfgroup.groupby(['Target', 'Targetu'])['Targetu'].count().reset_index(name='Count')\n",
        "print(result_table)\n"
      ],
      "metadata": {
        "colab": {
          "base_uri": "https://localhost:8080/"
        },
        "id": "Xt2dr7UpAk8s",
        "outputId": "46ee3973-3e00-4980-f405-74d566a32d7c"
      },
      "execution_count": null,
      "outputs": [
        {
          "output_type": "stream",
          "name": "stdout",
          "text": [
            "       Target     Targetu  Count\n",
            "0     Hallway     Kitchen    224\n",
            "1     Kitchen  Livingroom    215\n",
            "2  Livingroom     Hallway     27\n"
          ]
        }
      ]
    },
    {
      "cell_type": "markdown",
      "source": [
        "There are instances in our dataset where the original 'Target' values do not match the duplicated 'Targetu' values. The counts indicate the number of occurrences for each mismatched pair:\n",
        "\n",
        "* **Hallway vs. Kitchen:**\n",
        "\n",
        "There are 224 instances where 'Hallway' in the 'Target' column is mismatched with 'Kitchen' in the duplicated 'Targetu' column.\n",
        "* **Kitchen vs. Livingroom:**\n",
        "\n",
        "There are 215 instances where 'Kitchen' in the 'Target' column is mismatched with 'Livingroom' in the duplicated 'Targetu' column.\n",
        "* **Livingroom vs. Hallway:**\n",
        "\n",
        "There are 27 instances where 'Livingroom' in the 'Target' column is mismatched with 'Hallway' in the duplicated 'Targetu' column."
      ],
      "metadata": {
        "id": "U3p2glG1BtvO"
      }
    }
  ]
}